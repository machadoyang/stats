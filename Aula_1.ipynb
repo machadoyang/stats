{
 "cells": [
  {
   "cell_type": "markdown",
   "metadata": {},
   "source": [
    "A análise exploratória de dados é o processo de visualizar, analisar e extrair informações dele. Em outras palavras, éo  processo de sumarizar características importantes dos dados para entendê-los melhor.\n",
    "\n",
    "\n",
    "### Estatística descritiva\n",
    "Nesse contexto, a estatística descritiva ajuda a descrever as informações básicas de um conjunto de dados através de um pequeno resumo. Dados são fatos ou informações que não podem ser usados para relatórios, cálculos, planejamento ou análise. Primeiro, importaremos nossos dados utilizando a função read_csv do pandas.\n",
    "\n",
    "A análise estatística descritiva ajuda a descrever os recursos básicos do conjunto de dados e a obter um breve resumo dos dados.\n",
    "O método describe() na biblioteca Pandas nos ajuda a ter um breve resumo do conjunto de dados. Ele calcula automaticamente as estatísticas básicas para todas as variáveis numéricas, exceto os valores NaN (veremos esta parte mais tarde).\n",
    "Vamos importar todas as bibliotecas e ler os dados."
   ]
  },
  {
   "cell_type": "code",
   "execution_count": 3,
   "metadata": {},
   "outputs": [],
   "source": [
    "import pandas as pd\n",
    "\n",
    "data = pd.read_csv('titanic.csv')"
   ]
  },
  {
   "cell_type": "code",
   "execution_count": 4,
   "metadata": {
    "scrolled": true
   },
   "outputs": [
    {
     "data": {
      "text/html": [
       "<div>\n",
       "<style scoped>\n",
       "    .dataframe tbody tr th:only-of-type {\n",
       "        vertical-align: middle;\n",
       "    }\n",
       "\n",
       "    .dataframe tbody tr th {\n",
       "        vertical-align: top;\n",
       "    }\n",
       "\n",
       "    .dataframe thead th {\n",
       "        text-align: right;\n",
       "    }\n",
       "</style>\n",
       "<table border=\"1\" class=\"dataframe\">\n",
       "  <thead>\n",
       "    <tr style=\"text-align: right;\">\n",
       "      <th></th>\n",
       "      <th>PassengerId</th>\n",
       "      <th>Survived</th>\n",
       "      <th>Pclass</th>\n",
       "      <th>Name</th>\n",
       "      <th>Sex</th>\n",
       "      <th>Age</th>\n",
       "      <th>SibSp</th>\n",
       "      <th>Parch</th>\n",
       "      <th>Ticket</th>\n",
       "      <th>Fare</th>\n",
       "      <th>Cabin</th>\n",
       "      <th>Embarked</th>\n",
       "    </tr>\n",
       "  </thead>\n",
       "  <tbody>\n",
       "    <tr>\n",
       "      <th>0</th>\n",
       "      <td>1</td>\n",
       "      <td>0</td>\n",
       "      <td>3</td>\n",
       "      <td>Braund, Mr. Owen Harris</td>\n",
       "      <td>male</td>\n",
       "      <td>22.0</td>\n",
       "      <td>1</td>\n",
       "      <td>0</td>\n",
       "      <td>A/5 21171</td>\n",
       "      <td>7.2500</td>\n",
       "      <td>NaN</td>\n",
       "      <td>S</td>\n",
       "    </tr>\n",
       "    <tr>\n",
       "      <th>1</th>\n",
       "      <td>2</td>\n",
       "      <td>1</td>\n",
       "      <td>1</td>\n",
       "      <td>Cumings, Mrs. John Bradley (Florence Briggs Th...</td>\n",
       "      <td>female</td>\n",
       "      <td>38.0</td>\n",
       "      <td>1</td>\n",
       "      <td>0</td>\n",
       "      <td>PC 17599</td>\n",
       "      <td>71.2833</td>\n",
       "      <td>C85</td>\n",
       "      <td>C</td>\n",
       "    </tr>\n",
       "    <tr>\n",
       "      <th>2</th>\n",
       "      <td>3</td>\n",
       "      <td>1</td>\n",
       "      <td>3</td>\n",
       "      <td>Heikkinen, Miss. Laina</td>\n",
       "      <td>female</td>\n",
       "      <td>26.0</td>\n",
       "      <td>0</td>\n",
       "      <td>0</td>\n",
       "      <td>STON/O2. 3101282</td>\n",
       "      <td>7.9250</td>\n",
       "      <td>NaN</td>\n",
       "      <td>S</td>\n",
       "    </tr>\n",
       "    <tr>\n",
       "      <th>3</th>\n",
       "      <td>4</td>\n",
       "      <td>1</td>\n",
       "      <td>1</td>\n",
       "      <td>Futrelle, Mrs. Jacques Heath (Lily May Peel)</td>\n",
       "      <td>female</td>\n",
       "      <td>35.0</td>\n",
       "      <td>1</td>\n",
       "      <td>0</td>\n",
       "      <td>113803</td>\n",
       "      <td>53.1000</td>\n",
       "      <td>C123</td>\n",
       "      <td>S</td>\n",
       "    </tr>\n",
       "    <tr>\n",
       "      <th>4</th>\n",
       "      <td>5</td>\n",
       "      <td>0</td>\n",
       "      <td>3</td>\n",
       "      <td>Allen, Mr. William Henry</td>\n",
       "      <td>male</td>\n",
       "      <td>35.0</td>\n",
       "      <td>0</td>\n",
       "      <td>0</td>\n",
       "      <td>373450</td>\n",
       "      <td>8.0500</td>\n",
       "      <td>NaN</td>\n",
       "      <td>S</td>\n",
       "    </tr>\n",
       "    <tr>\n",
       "      <th>...</th>\n",
       "      <td>...</td>\n",
       "      <td>...</td>\n",
       "      <td>...</td>\n",
       "      <td>...</td>\n",
       "      <td>...</td>\n",
       "      <td>...</td>\n",
       "      <td>...</td>\n",
       "      <td>...</td>\n",
       "      <td>...</td>\n",
       "      <td>...</td>\n",
       "      <td>...</td>\n",
       "      <td>...</td>\n",
       "    </tr>\n",
       "    <tr>\n",
       "      <th>886</th>\n",
       "      <td>887</td>\n",
       "      <td>0</td>\n",
       "      <td>2</td>\n",
       "      <td>Montvila, Rev. Juozas</td>\n",
       "      <td>male</td>\n",
       "      <td>27.0</td>\n",
       "      <td>0</td>\n",
       "      <td>0</td>\n",
       "      <td>211536</td>\n",
       "      <td>13.0000</td>\n",
       "      <td>NaN</td>\n",
       "      <td>S</td>\n",
       "    </tr>\n",
       "    <tr>\n",
       "      <th>887</th>\n",
       "      <td>888</td>\n",
       "      <td>1</td>\n",
       "      <td>1</td>\n",
       "      <td>Graham, Miss. Margaret Edith</td>\n",
       "      <td>female</td>\n",
       "      <td>19.0</td>\n",
       "      <td>0</td>\n",
       "      <td>0</td>\n",
       "      <td>112053</td>\n",
       "      <td>30.0000</td>\n",
       "      <td>B42</td>\n",
       "      <td>S</td>\n",
       "    </tr>\n",
       "    <tr>\n",
       "      <th>888</th>\n",
       "      <td>889</td>\n",
       "      <td>0</td>\n",
       "      <td>3</td>\n",
       "      <td>Johnston, Miss. Catherine Helen \"Carrie\"</td>\n",
       "      <td>female</td>\n",
       "      <td>NaN</td>\n",
       "      <td>1</td>\n",
       "      <td>2</td>\n",
       "      <td>W./C. 6607</td>\n",
       "      <td>23.4500</td>\n",
       "      <td>NaN</td>\n",
       "      <td>S</td>\n",
       "    </tr>\n",
       "    <tr>\n",
       "      <th>889</th>\n",
       "      <td>890</td>\n",
       "      <td>1</td>\n",
       "      <td>1</td>\n",
       "      <td>Behr, Mr. Karl Howell</td>\n",
       "      <td>male</td>\n",
       "      <td>26.0</td>\n",
       "      <td>0</td>\n",
       "      <td>0</td>\n",
       "      <td>111369</td>\n",
       "      <td>30.0000</td>\n",
       "      <td>C148</td>\n",
       "      <td>C</td>\n",
       "    </tr>\n",
       "    <tr>\n",
       "      <th>890</th>\n",
       "      <td>891</td>\n",
       "      <td>0</td>\n",
       "      <td>3</td>\n",
       "      <td>Dooley, Mr. Patrick</td>\n",
       "      <td>male</td>\n",
       "      <td>32.0</td>\n",
       "      <td>0</td>\n",
       "      <td>0</td>\n",
       "      <td>370376</td>\n",
       "      <td>7.7500</td>\n",
       "      <td>NaN</td>\n",
       "      <td>Q</td>\n",
       "    </tr>\n",
       "  </tbody>\n",
       "</table>\n",
       "<p>891 rows × 12 columns</p>\n",
       "</div>"
      ],
      "text/plain": [
       "     PassengerId  Survived  Pclass  \\\n",
       "0              1         0       3   \n",
       "1              2         1       1   \n",
       "2              3         1       3   \n",
       "3              4         1       1   \n",
       "4              5         0       3   \n",
       "..           ...       ...     ...   \n",
       "886          887         0       2   \n",
       "887          888         1       1   \n",
       "888          889         0       3   \n",
       "889          890         1       1   \n",
       "890          891         0       3   \n",
       "\n",
       "                                                  Name     Sex   Age  SibSp  \\\n",
       "0                              Braund, Mr. Owen Harris    male  22.0      1   \n",
       "1    Cumings, Mrs. John Bradley (Florence Briggs Th...  female  38.0      1   \n",
       "2                               Heikkinen, Miss. Laina  female  26.0      0   \n",
       "3         Futrelle, Mrs. Jacques Heath (Lily May Peel)  female  35.0      1   \n",
       "4                             Allen, Mr. William Henry    male  35.0      0   \n",
       "..                                                 ...     ...   ...    ...   \n",
       "886                              Montvila, Rev. Juozas    male  27.0      0   \n",
       "887                       Graham, Miss. Margaret Edith  female  19.0      0   \n",
       "888           Johnston, Miss. Catherine Helen \"Carrie\"  female   NaN      1   \n",
       "889                              Behr, Mr. Karl Howell    male  26.0      0   \n",
       "890                                Dooley, Mr. Patrick    male  32.0      0   \n",
       "\n",
       "     Parch            Ticket     Fare Cabin Embarked  \n",
       "0        0         A/5 21171   7.2500   NaN        S  \n",
       "1        0          PC 17599  71.2833   C85        C  \n",
       "2        0  STON/O2. 3101282   7.9250   NaN        S  \n",
       "3        0            113803  53.1000  C123        S  \n",
       "4        0            373450   8.0500   NaN        S  \n",
       "..     ...               ...      ...   ...      ...  \n",
       "886      0            211536  13.0000   NaN        S  \n",
       "887      0            112053  30.0000   B42        S  \n",
       "888      2        W./C. 6607  23.4500   NaN        S  \n",
       "889      0            111369  30.0000  C148        C  \n",
       "890      0            370376   7.7500   NaN        Q  \n",
       "\n",
       "[891 rows x 12 columns]"
      ]
     },
     "execution_count": 4,
     "metadata": {},
     "output_type": "execute_result"
    }
   ],
   "source": [
    "data"
   ]
  },
  {
   "cell_type": "markdown",
   "metadata": {},
   "source": [
    "Nosso conjunto de dados é bastante conhecido pelo [desafio de aprendizagem de máquina](https://www.kaggle.com/c/titanic) utilizando os dados dos passageiros do Titanic. As variáveis são:\n",
    "\n",
    "- PassengerId: Id\n",
    "- Survived: Sobrevivência (0 = Não, 1 = Sim)\n",
    "- Pclass: Classe de embarque (1 = primeira classe, 2 = segunda classe, 3 = terceira classe)\n",
    "- Name: Nome do passageiro\n",
    "- Sex: Gênero do passageiro\n",
    "- Age: Idade\n",
    "- SibSp: Número de parentes a bordo do Titanic\n",
    "- Parch: Número de parentes diretos (pais ou filhos) a bordo do Titanic\n",
    "- Ticket: Número da passagem\n",
    "- Fare: Tarifa\n",
    "- Cabin: Código da cabine\n",
    "- Embarked: Porta de embarque (C = Cherbourg, Q = Queenstown, S = Southampton)\n",
    "\n",
    "Os dados podem ser quantitativos ou qualitativos.\n",
    "\n",
    "Os dados quantitativos ocorrem quando seus valores são expressos em números (salários dos operários, idade dos alunos de uma escola etc.). Uma variável quantitativa que pode assumir, teoricamente, qualquer valor entre dois limites recebe o nome de variável contínua; uma variável que só pode assumir valores pertencentes a um conjunto enumerável recebe o nome de variável discreta.\n",
    "\n",
    "Já os dados qualitativos ocorrem quando seus valores são expressos por atributos: sexo (masculino – feminino), cor da pele (branca, preta, amarela, vermelha, parda) etc.\n",
    "\n",
    "Utilizando a função .info() nos informa descrições a base de dados como quantidade de linha, colunas, tamanho etc"
   ]
  },
  {
   "cell_type": "code",
   "execution_count": 5,
   "metadata": {},
   "outputs": [
    {
     "name": "stdout",
     "output_type": "stream",
     "text": [
      "<class 'pandas.core.frame.DataFrame'>\n",
      "RangeIndex: 891 entries, 0 to 890\n",
      "Data columns (total 12 columns):\n",
      " #   Column       Non-Null Count  Dtype  \n",
      "---  ------       --------------  -----  \n",
      " 0   PassengerId  891 non-null    int64  \n",
      " 1   Survived     891 non-null    int64  \n",
      " 2   Pclass       891 non-null    int64  \n",
      " 3   Name         891 non-null    object \n",
      " 4   Sex          891 non-null    object \n",
      " 5   Age          714 non-null    float64\n",
      " 6   SibSp        891 non-null    int64  \n",
      " 7   Parch        891 non-null    int64  \n",
      " 8   Ticket       891 non-null    object \n",
      " 9   Fare         891 non-null    float64\n",
      " 10  Cabin        204 non-null    object \n",
      " 11  Embarked     889 non-null    object \n",
      "dtypes: float64(2), int64(5), object(5)\n",
      "memory usage: 83.7+ KB\n"
     ]
    }
   ],
   "source": [
    "data.info()"
   ]
  },
  {
   "cell_type": "markdown",
   "metadata": {},
   "source": [
    "#### Histograma e síntese estatística\n",
    "\n",
    "É uma distribuição de frequência, mostrando com que frequência cada valor em um conjunto de dados ocorre. Comumente usado para mostrar distribuições de frequência. Podemos, por exemplo, ver a distribuição das idades dos passageiros presentes no Titanic. Podemos notar que existe uma frequência de passageiros maior no intervalo de 20 e 40 anos de idade."
   ]
  },
  {
   "cell_type": "code",
   "execution_count": 6,
   "metadata": {},
   "outputs": [
    {
     "name": "stdout",
     "output_type": "stream",
     "text": [
      "Nosso conjunto de dados possui informações de 891 passageiros.\n"
     ]
    },
    {
     "name": "stderr",
     "output_type": "stream",
     "text": [
      "C:\\Users\\User\\anaconda3\\lib\\site-packages\\numpy\\lib\\histograms.py:839: RuntimeWarning: invalid value encountered in greater_equal\n",
      "  keep = (tmp_a >= first_edge)\n",
      "C:\\Users\\User\\anaconda3\\lib\\site-packages\\numpy\\lib\\histograms.py:840: RuntimeWarning: invalid value encountered in less_equal\n",
      "  keep &= (tmp_a <= last_edge)\n"
     ]
    },
    {
     "data": {
      "text/plain": [
       "Text(0, 0.5, 'Quantidade de passageiros')"
      ]
     },
     "execution_count": 6,
     "metadata": {},
     "output_type": "execute_result"
    },
    {
     "data": {
      "image/png": "[encoded data removed]",
      "text/plain": [
       "<Figure size 432x288 with 1 Axes>"
      ]
     },
     "metadata": {
      "needs_background": "light"
     },
     "output_type": "display_data"
    }
   ],
   "source": [
    "import matplotlib.pyplot as plt\n",
    "\n",
    "n_passengers = len(data)\n",
    "print('Nosso conjunto de dados possui informações de ' + str(n_passengers) + ' passageiros.')\n",
    "\n",
    "plt.hist(data.Age)\n",
    "plt.xlabel('Idade')\n",
    "plt.ylabel('Quantidade de passageiros')"
   ]
  },
  {
   "cell_type": "code",
   "execution_count": 34,
   "metadata": {},
   "outputs": [
    {
     "data": {
      "text/plain": [
       "<matplotlib.axes._subplots.AxesSubplot at 0x1c91ffba688>"
      ]
     },
     "execution_count": 34,
     "metadata": {},
     "output_type": "execute_result"
    },
    {
     "data": {
      "image/png": "[encoded data removed]",
      "text/plain": [
       "<Figure size 432x288 with 1 Axes>"
      ]
     },
     "metadata": {
      "needs_background": "light"
     },
     "output_type": "display_data"
    }
   ],
   "source": [
    "male = (data.Sex.values == 'male').sum()\n",
    "female = (data.Sex.values == 'female').sum()\n",
    "dict = {'male': male, 'female': female}\n",
    "ds = pd.Series(dict)\n",
    "ds.plot(kind='bar')"
   ]
  },
  {
   "cell_type": "markdown",
   "metadata": {},
   "source": [
    "Podemos também obter uma descrição rápida e simples dos dados. Calcularemos os valores de média, mediana, moda, valor mínimo, valor máximo, faixa e desvio padrão. Seguindo com a nossa base de dados do Titanic faremos este cálculo utilizando as funções mean(), std(), min(), max() importadas da biblioteca Numpy separadamente ou aplicar a função describe() que realiza todos os cálculos de uma vez."
   ]
  },
  {
   "cell_type": "code",
   "execution_count": 7,
   "metadata": {},
   "outputs": [
    {
     "data": {
      "text/plain": [
       "count    714.000000\n",
       "mean      29.699118\n",
       "std       14.526497\n",
       "min        0.420000\n",
       "25%       20.125000\n",
       "50%       28.000000\n",
       "75%       38.000000\n",
       "max       80.000000\n",
       "Name: Age, dtype: float64"
      ]
     },
     "execution_count": 7,
     "metadata": {},
     "output_type": "execute_result"
    }
   ],
   "source": [
    "data.Age.describe()"
   ]
  },
  {
   "cell_type": "markdown",
   "metadata": {},
   "source": [
    "Sobre as métricas que calculamos começaremos discutindo sobre os conceitos de variância e desvio padrão. Eles são medidas de dispersão dos dados (também chamado de variabilidade ou espalhamento). A variância é a média das diferenças quadradas da média. Em termos matemáticos, isso significaria:\n",
    "\n",
    "$\\sigma^2 = \\frac{1}{N} \\sum (x-\\mu)^2$\n",
    "\n",
    "onde $\\sigma^2$ é a variância, $N$ é o número de observações (toda a população), $X$ é o conjunto de indivíduos observados e $\\mu$ é a média.\n",
    "\n",
    "Quando a população é muito grande tentamos representá-la utilizando apenas uma parte dela, chamado de amostra. Nesse caso, o cálculo da variância difere apenas no seu denominador. A variância amostral ($s^2$) é dada por:\n",
    "\n",
    "$s^2 = \\frac{1}{n-1} \\sum (x-\\overline{x})^2$\n",
    "\n",
    "onde \\overline{x} é a média amostral. Veja que aqui estamos dividindo por $n-1$. O denominador $n-1$ da variância, é determinado graus de liberdade. Considerando um conjunto de $n$ observações e fixando uma média para esse grupo, existe a liberdade de escolher os valores numéricos de n-1 observações, o valor da última observação estará fixado para atender ao requisito de ser a soma dos desvios da média igual a zero.\n",
    "No caso especifico do cálculo da variância, diz-se que os “n” graus de liberdade originalmente disponíveis no conjunto sofreram a redução de uma unidade porque uma estatística, a média já foi calculada dos dados do grupo e aplicada na determinação da variância.\n",
    "\n",
    "Uma vez que a variância é uma medida de dimensão igual ao quadrado da dimensão dos dados, ela pode causar problemas de interpretação. Sendo assim, o desvio padrão é calculado a raiz quadrada da variância e denominado por $\\sigma$. O desvio padrão é uma excelente forma de identificar outliers. Os outliers são dados que se diferenciam drasticamente de todos os outros. Na maioria dos casos, dados que estão a mais de dois desvios padrões da média são considerados outliers. Podemos então calcular o quão extremo um dado é se perguntando \"quantos sigmas esse dado está da média?\".\n",
    "\n",
    "Como o desvio é derivado da variância, também há diferenças no cálculo do desvio padrão populacional e amostral.\n",
    "\n",
    "Ao usar o desvio padrão, lembre-se que:\n",
    "\n",
    "- O desvio padrão é usado apenas para medir a dispersão ou dispersão em torno da média de um conjunto de dados.\n",
    "- O desvio padrão nunca é negativo.\n",
    "- O desvio padrão é sensível aos valores discrepantes. Um único outlier pode aumentar o desvio padrão.\n",
    "- Para dados com aproximadamente a mesma média, quanto maior o espalhamento (spread), maior o desvio padrão.\n",
    "- Se todos os valores de um conjunto de dados forem iguais, o desvio padrão será zero (porque cada valor é igual à média).\n",
    "\n",
    "Para entender melhor sobre as outras métricas, falaremos sobre o gráfico de caixa, conhecido como boxplot\n",
    "\n",
    "#### Boxplot\n",
    "\n",
    "O boxplot (gráfico em caixa) consegue nos fornecer informações de como os valores estão dispersos. Embora eles pareçam mais simples que os histogramas, por exemplo, eles possuem a vantagem de ocupar menos espaço, o que é útil quando comparamos vários conjuntos de dados.\n",
    "\n",
    "Os boxplots possuem um formato padrão de mostrar a distribuição dos dados utilizando as informações que calculamos utilizando a função .describe(): \"valor mínimo\", primeiro quartil (Q1), mediana, terceiro quartil (Q3) e o \"valor máximo\". Veja o gráfico de caixa para as idades dos passageiros do Titanic. O pandas consegue plotar o gráfico simplesmente utilizando a função .boxplot()."
   ]
  },
  {
   "cell_type": "code",
   "execution_count": 8,
   "metadata": {},
   "outputs": [
    {
     "data": {
      "text/plain": [
       "<matplotlib.axes._subplots.AxesSubplot at 0x1c91fe6ba48>"
      ]
     },
     "execution_count": 8,
     "metadata": {},
     "output_type": "execute_result"
    },
    {
     "data": {
      "image/png": "[encoded data removed]",
      "text/plain": [
       "<Figure size 432x288 with 1 Axes>"
      ]
     },
     "metadata": {
      "needs_background": "light"
     },
     "output_type": "display_data"
    }
   ],
   "source": [
    "data.boxplot(column=['Age'], return_type='axes')"
   ]
  },
  {
   "cell_type": "markdown",
   "metadata": {},
   "source": [
    "- Mediana (Q2 ou percentil 50): o valor central do conjunto de dados.\n",
    "- Primeiro quartil (Q1 ou percentil 25): o valor central entre o menor valor (não o \"mínimo\") e a mediana. 25% dos dados estão abaixo do Q1.\n",
    "- Terceiro quartil (Q3 ou percentil 75): 75% dos dados estão abaixo do Q3.\n",
    "- Intervalo interquartil (IIQ): Intervalo entre os percentis 25 e 75.\n",
    "- Valores \"máximo\" e \"mínimo\": Menor e maior valores dentro do critério de seleção de outliers.\n",
    "- Ouliers: Valores atípicos\n",
    "\n",
    "Os outliers são selecionados pelos círculos, enquanto que o retângulo (a caixa) contém o intervalo interquartil. A mediana é representada pela linha vermelha dentro da caixa. As linhas horizontais superiores e inferiores são os valores \"máximo\" e \"mínimo.\n",
    "\n",
    "A determinação dos outliers considera como as observações (x) que estão fora do intervalo:\n",
    "\n",
    "$Q1-1,5.IIQ \\leq x \\leq Q3+1,5.IIQ$\n",
    "\n",
    "E o que fazer com os outliers?\n",
    "\n",
    "Existem diversas saídas, algumas delas são:\n",
    "\n",
    "- Excluir as observações discrepantes da amostra de dados: quando o dado discrepante é fruto de um erro de input dos dados, então ele precisa ser removido da amostra;\n",
    "- Realizar uma análise separada apenas com os outliers: esta abordagem é útil quando se quer investigar casos extremos, como alunos que só tiram notas boas, empresas que apresentam lucro mesmo em tempos de crise, casos de fraudes, entre outros.\n",
    "- Utilizar métodos de clusterização para encontrar uma aproximação que corrige e dá um novo valor aos dados outliers: em casos de erros no input dos dados, ao invés de excluir e perder uma linha inteira de registros devido a uma única observação outlier, uma solução é utilizar algoritmos de clusterização que encontram o comportamento das observações mais próximas ao dado outlier e fazem inferência de qual seria o melhor valor aproximado.\n",
    "- Mas não esqueça: um outlier pode ser o que mais atrapalha sua análise, mas também pode ser exatamente aquilo que você está procurando."
   ]
  },
  {
   "cell_type": "markdown",
   "metadata": {},
   "source": [
    "#### Gráfico de dispersão (scatter plot)\n",
    "\n",
    "Uma ferramenta de visualização de dados comumente usada para mostrar correlação entre duas variáveis. Vamos tentar plotar utilizando novamente o pandas para descobrir se há algum padrão entre a idade do passageiro e o valor da tarifa pago por ele."
   ]
  },
  {
   "cell_type": "code",
   "execution_count": 9,
   "metadata": {},
   "outputs": [
    {
     "data": {
      "text/plain": [
       "Text(0, 0.5, 'Tarifa')"
      ]
     },
     "execution_count": 9,
     "metadata": {},
     "output_type": "execute_result"
    },
    {
     "data": {
      "image/png": "[encoded data removed]",
      "text/plain": [
       "<Figure size 432x288 with 1 Axes>"
      ]
     },
     "metadata": {
      "needs_background": "light"
     },
     "output_type": "display_data"
    }
   ],
   "source": [
    "data.plot.scatter(x='Age', y='Fare')\n",
    "plt.xlabel('Idade')\n",
    "plt.ylabel('Tarifa')"
   ]
  },
  {
   "cell_type": "markdown",
   "metadata": {},
   "source": [
    "Aparentemente a maioria dos passageiros pagaram um valor inferior de tarifa. Olhando graficamente não há uma relação clara entre idade e valor da tarifa, mas nós conseguimos elevar o nível de informação desse gráfico.\n",
    "\n",
    "#### Desafio\n",
    "\n",
    "- Será que há relação entre o valor da tarifa e a sobrevivência dos passageiros?\n",
    "- Será que há alguma relação entre idade e sobrevivência?\n",
    "\n",
    "Produza um único gráfico que mostre as três informações. Dica: Selecione cores diferentes para os passageiros que sobreviveram e os que não. Lembre de adicionar uma legenda!"
   ]
  }
 ],
 "metadata": {
  "kernelspec": {
   "display_name": "Python 3",
   "language": "python",
   "name": "python3"
  },
  "language_info": {
   "codemirror_mode": {
    "name": "ipython",
    "version": 3
   },
   "file_extension": ".py",
   "mimetype": "text/x-python",
   "name": "python",
   "nbconvert_exporter": "python",
   "pygments_lexer": "ipython3",
   "version": "3.7.6"
  }
 },
 "nbformat": 4,
 "nbformat_minor": 4
}
